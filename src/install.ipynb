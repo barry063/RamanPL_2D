{
 "cells": [
  {
   "cell_type": "markdown",
   "id": "369c74c6",
   "metadata": {},
   "source": [
    "# INSTALLATION CODE\n",
    "\n",
    "This jupyter-notebook is created specifically for installing our nice little pacakges. As the installation location is sort of different from normal command line/terminal installation, so the notebook is created. Don't change the location of this `install.ipynb` file. So it will automatically check and run it in the `src` folder\n",
    "\n",
    "Simply run the code here:\n",
    "```python\n",
    "! pip install -e .\n",
    "```"
   ]
  },
  {
   "cell_type": "code",
   "execution_count": null,
   "id": "e5e756c3",
   "metadata": {},
   "outputs": [],
   "source": [
    "! pip install -e ."
   ]
  },
  {
   "cell_type": "markdown",
   "id": "2440f7d9",
   "metadata": {},
   "source": [
    "Once you run the code, you should see: `Successfully installed RamanPL_2D-(version number)`, and now you can call the pacakage in your jupyter-notebook using python code like:\n",
    "```python\n",
    "    from ramanpl import RamanFit\n",
    "    from ramanpl import PLfit\n",
    "```"
   ]
  },
  {
   "cell_type": "code",
   "execution_count": 2,
   "id": "83945911",
   "metadata": {},
   "outputs": [
    {
     "name": "stdout",
     "output_type": "stream",
     "text": [
      "Installation is OK\n"
     ]
    }
   ],
   "source": [
    "## Check if you have installed it correctly\n",
    "try:\n",
    "    from ramanpl import RamanFit\n",
    "    from ramanpl import PLfit\n",
    "    from ramanpl import Mapping\n",
    "    print(\"Installation is OK\")\n",
    "except:\n",
    "    print(\"Installation is NOT ok, check again!\")\n"
   ]
  }
 ],
 "metadata": {
  "kernelspec": {
   "display_name": ".venv",
   "language": "python",
   "name": "python3"
  },
  "language_info": {
   "codemirror_mode": {
    "name": "ipython",
    "version": 3
   },
   "file_extension": ".py",
   "mimetype": "text/x-python",
   "name": "python",
   "nbconvert_exporter": "python",
   "pygments_lexer": "ipython3",
   "version": "3.10.11"
  }
 },
 "nbformat": 4,
 "nbformat_minor": 5
}
